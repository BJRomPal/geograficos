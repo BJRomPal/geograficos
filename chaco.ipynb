{
  "nbformat": 4,
  "nbformat_minor": 0,
  "metadata": {
    "colab": {
      "name": "chaco.ipynb",
      "provenance": [],
      "authorship_tag": "ABX9TyMEh819vK9xejynnQOl2xZc",
      "include_colab_link": true
    },
    "kernelspec": {
      "name": "python3",
      "display_name": "Python 3"
    },
    "language_info": {
      "name": "python"
    }
  },
  "cells": [
    {
      "cell_type": "markdown",
      "metadata": {
        "id": "view-in-github",
        "colab_type": "text"
      },
      "source": [
        "<a href=\"https://colab.research.google.com/github/BJRomPal/geograficos/blob/main/chaco.ipynb\" target=\"_parent\"><img src=\"https://colab.research.google.com/assets/colab-badge.svg\" alt=\"Open In Colab\"/></a>"
      ]
    },
    {
      "cell_type": "code",
      "metadata": {
        "colab": {
          "base_uri": "https://localhost:8080/"
        },
        "id": "fDZ-HRcqx7-N",
        "outputId": "cdc63779-930d-4b89-e4c8-b7f4d06b9a70"
      },
      "source": [
        "pip install geopandas"
      ],
      "execution_count": 1,
      "outputs": [
        {
          "output_type": "stream",
          "name": "stdout",
          "text": [
            "Collecting geopandas\n",
            "  Downloading geopandas-0.10.2-py2.py3-none-any.whl (1.0 MB)\n",
            "\u001b[K     |████████████████████████████████| 1.0 MB 5.3 MB/s \n",
            "\u001b[?25hCollecting fiona>=1.8\n",
            "  Downloading Fiona-1.8.20-cp37-cp37m-manylinux1_x86_64.whl (15.4 MB)\n",
            "\u001b[K     |████████████████████████████████| 15.4 MB 32.6 MB/s \n",
            "\u001b[?25hRequirement already satisfied: shapely>=1.6 in /usr/local/lib/python3.7/dist-packages (from geopandas) (1.8.0)\n",
            "Collecting pyproj>=2.2.0\n",
            "  Downloading pyproj-3.2.1-cp37-cp37m-manylinux2010_x86_64.whl (6.3 MB)\n",
            "\u001b[K     |████████████████████████████████| 6.3 MB 48.3 MB/s \n",
            "\u001b[?25hRequirement already satisfied: pandas>=0.25.0 in /usr/local/lib/python3.7/dist-packages (from geopandas) (1.1.5)\n",
            "Collecting munch\n",
            "  Downloading munch-2.5.0-py2.py3-none-any.whl (10 kB)\n",
            "Collecting cligj>=0.5\n",
            "  Downloading cligj-0.7.2-py3-none-any.whl (7.1 kB)\n",
            "Requirement already satisfied: click>=4.0 in /usr/local/lib/python3.7/dist-packages (from fiona>=1.8->geopandas) (7.1.2)\n",
            "Requirement already satisfied: attrs>=17 in /usr/local/lib/python3.7/dist-packages (from fiona>=1.8->geopandas) (21.2.0)\n",
            "Requirement already satisfied: setuptools in /usr/local/lib/python3.7/dist-packages (from fiona>=1.8->geopandas) (57.4.0)\n",
            "Requirement already satisfied: certifi in /usr/local/lib/python3.7/dist-packages (from fiona>=1.8->geopandas) (2021.10.8)\n",
            "Requirement already satisfied: six>=1.7 in /usr/local/lib/python3.7/dist-packages (from fiona>=1.8->geopandas) (1.15.0)\n",
            "Collecting click-plugins>=1.0\n",
            "  Downloading click_plugins-1.1.1-py2.py3-none-any.whl (7.5 kB)\n",
            "Requirement already satisfied: pytz>=2017.2 in /usr/local/lib/python3.7/dist-packages (from pandas>=0.25.0->geopandas) (2018.9)\n",
            "Requirement already satisfied: python-dateutil>=2.7.3 in /usr/local/lib/python3.7/dist-packages (from pandas>=0.25.0->geopandas) (2.8.2)\n",
            "Requirement already satisfied: numpy>=1.15.4 in /usr/local/lib/python3.7/dist-packages (from pandas>=0.25.0->geopandas) (1.19.5)\n",
            "Installing collected packages: munch, cligj, click-plugins, pyproj, fiona, geopandas\n",
            "Successfully installed click-plugins-1.1.1 cligj-0.7.2 fiona-1.8.20 geopandas-0.10.2 munch-2.5.0 pyproj-3.2.1\n"
          ]
        }
      ]
    },
    {
      "cell_type": "code",
      "metadata": {
        "id": "_rYRwqJzDGi1"
      },
      "source": [
        "url_mapa = \"https://raw.githubusercontent.com/BJRomPal/geograficos/main/chaco.geojson\""
      ],
      "execution_count": 2,
      "outputs": []
    },
    {
      "cell_type": "code",
      "metadata": {
        "id": "Kc4-yyCRDR-o"
      },
      "source": [
        "url_mesas = \"https://raw.githubusercontent.com/BJRomPal/geograficos/main/chaco_db.csv\""
      ],
      "execution_count": 3,
      "outputs": []
    },
    {
      "cell_type": "code",
      "metadata": {
        "id": "DJC_6u1IzFNe"
      },
      "source": [
        "import geopandas as gp\n",
        "import pandas as pd\n",
        "import numpy as np"
      ],
      "execution_count": 4,
      "outputs": []
    },
    {
      "cell_type": "code",
      "metadata": {
        "colab": {
          "base_uri": "https://localhost:8080/",
          "height": 597
        },
        "id": "v4TbkfjZzLm6",
        "outputId": "b9f58626-5c15-4fb9-d81c-20c6fe963db1"
      },
      "source": [
        "data = gp.read_file(url_mapa)\n",
        "data"
      ],
      "execution_count": 5,
      "outputs": [
        {
          "output_type": "execute_result",
          "data": {
            "text/html": [
              "<div>\n",
              "<style scoped>\n",
              "    .dataframe tbody tr th:only-of-type {\n",
              "        vertical-align: middle;\n",
              "    }\n",
              "\n",
              "    .dataframe tbody tr th {\n",
              "        vertical-align: top;\n",
              "    }\n",
              "\n",
              "    .dataframe thead th {\n",
              "        text-align: right;\n",
              "    }\n",
              "</style>\n",
              "<table border=\"1\" class=\"dataframe\">\n",
              "  <thead>\n",
              "    <tr style=\"text-align: right;\">\n",
              "      <th></th>\n",
              "      <th>id</th>\n",
              "      <th>gid</th>\n",
              "      <th>distrito</th>\n",
              "      <th>provincia</th>\n",
              "      <th>departamen</th>\n",
              "      <th>cabecera</th>\n",
              "      <th>circuito</th>\n",
              "      <th>indec_p</th>\n",
              "      <th>indec_d</th>\n",
              "      <th>geometry</th>\n",
              "    </tr>\n",
              "  </thead>\n",
              "  <tbody>\n",
              "    <tr>\n",
              "      <th>0</th>\n",
              "      <td>circuito_06.fid-421fea78_17d39d8939b_3dcb</td>\n",
              "      <td>410</td>\n",
              "      <td>06</td>\n",
              "      <td>Chaco</td>\n",
              "      <td>Independencia</td>\n",
              "      <td>Campo Largo</td>\n",
              "      <td>0111</td>\n",
              "      <td>22</td>\n",
              "      <td>070</td>\n",
              "      <td>MULTIPOLYGON (((-60.54962 -26.60516, -60.56352...</td>\n",
              "    </tr>\n",
              "    <tr>\n",
              "      <th>1</th>\n",
              "      <td>circuito_06.fid-421fea78_17d39d8939b_3dcc</td>\n",
              "      <td>411</td>\n",
              "      <td>06</td>\n",
              "      <td>Chaco</td>\n",
              "      <td>Independencia</td>\n",
              "      <td>Campo Largo</td>\n",
              "      <td>0112</td>\n",
              "      <td>22</td>\n",
              "      <td>070</td>\n",
              "      <td>MULTIPOLYGON (((-60.91247 -26.67530, -60.86733...</td>\n",
              "    </tr>\n",
              "    <tr>\n",
              "      <th>2</th>\n",
              "      <td>circuito_06.fid-421fea78_17d39d8939b_3dcd</td>\n",
              "      <td>431</td>\n",
              "      <td>06</td>\n",
              "      <td>Chaco</td>\n",
              "      <td>San Fernando</td>\n",
              "      <td>Resistencia</td>\n",
              "      <td>0023</td>\n",
              "      <td>22</td>\n",
              "      <td>140</td>\n",
              "      <td>MULTIPOLYGON (((-59.02023 -27.41092, -59.02019...</td>\n",
              "    </tr>\n",
              "    <tr>\n",
              "      <th>3</th>\n",
              "      <td>circuito_06.fid-421fea78_17d39d8939b_3dce</td>\n",
              "      <td>323</td>\n",
              "      <td>06</td>\n",
              "      <td>Chaco</td>\n",
              "      <td>San Fernando</td>\n",
              "      <td>Resistencia</td>\n",
              "      <td>0001</td>\n",
              "      <td>22</td>\n",
              "      <td>140</td>\n",
              "      <td>MULTIPOLYGON (((-58.98378 -27.45119, -58.98474...</td>\n",
              "    </tr>\n",
              "    <tr>\n",
              "      <th>4</th>\n",
              "      <td>circuito_06.fid-421fea78_17d39d8939b_3dcf</td>\n",
              "      <td>324</td>\n",
              "      <td>06</td>\n",
              "      <td>Chaco</td>\n",
              "      <td>San Fernando</td>\n",
              "      <td>Resistencia</td>\n",
              "      <td>0002</td>\n",
              "      <td>22</td>\n",
              "      <td>140</td>\n",
              "      <td>MULTIPOLYGON (((-58.98421 -27.46391, -58.98513...</td>\n",
              "    </tr>\n",
              "    <tr>\n",
              "      <th>...</th>\n",
              "      <td>...</td>\n",
              "      <td>...</td>\n",
              "      <td>...</td>\n",
              "      <td>...</td>\n",
              "      <td>...</td>\n",
              "      <td>...</td>\n",
              "      <td>...</td>\n",
              "      <td>...</td>\n",
              "      <td>...</td>\n",
              "      <td>...</td>\n",
              "    </tr>\n",
              "    <tr>\n",
              "      <th>154</th>\n",
              "      <td>circuito_06.fid-421fea78_17d39d8939b_3e65</td>\n",
              "      <td>472</td>\n",
              "      <td>06</td>\n",
              "      <td>Chaco</td>\n",
              "      <td>Bermejo</td>\n",
              "      <td>La Leonesa</td>\n",
              "      <td>0051</td>\n",
              "      <td>22</td>\n",
              "      <td>014</td>\n",
              "      <td>MULTIPOLYGON (((-58.63642 -27.01944, -58.63314...</td>\n",
              "    </tr>\n",
              "    <tr>\n",
              "      <th>155</th>\n",
              "      <td>circuito_06.fid-421fea78_17d39d8939b_3e66</td>\n",
              "      <td>478</td>\n",
              "      <td>06</td>\n",
              "      <td>Chaco</td>\n",
              "      <td>Bermejo</td>\n",
              "      <td>La Leonesa</td>\n",
              "      <td>0055B</td>\n",
              "      <td>22</td>\n",
              "      <td>014</td>\n",
              "      <td>MULTIPOLYGON (((-58.68880 -26.60214, -58.68841...</td>\n",
              "    </tr>\n",
              "    <tr>\n",
              "      <th>156</th>\n",
              "      <td>circuito_06.fid-421fea78_17d39d8939b_3e67</td>\n",
              "      <td>479</td>\n",
              "      <td>06</td>\n",
              "      <td>Chaco</td>\n",
              "      <td>San Fernando</td>\n",
              "      <td>Resistencia</td>\n",
              "      <td>0012</td>\n",
              "      <td>22</td>\n",
              "      <td>140</td>\n",
              "      <td>MULTIPOLYGON (((-58.87859 -27.56951, -58.87902...</td>\n",
              "    </tr>\n",
              "    <tr>\n",
              "      <th>157</th>\n",
              "      <td>circuito_06.fid-421fea78_17d39d8939b_3e68</td>\n",
              "      <td>480</td>\n",
              "      <td>06</td>\n",
              "      <td>Chaco</td>\n",
              "      <td>San Fernando</td>\n",
              "      <td>Resistencia</td>\n",
              "      <td>0008B</td>\n",
              "      <td>22</td>\n",
              "      <td>140</td>\n",
              "      <td>MULTIPOLYGON (((-58.97771 -27.46999, -58.97681...</td>\n",
              "    </tr>\n",
              "    <tr>\n",
              "      <th>158</th>\n",
              "      <td>circuito_06.fid-421fea78_17d39d8939b_3e69</td>\n",
              "      <td>481</td>\n",
              "      <td>06</td>\n",
              "      <td>Chaco</td>\n",
              "      <td>Libertad</td>\n",
              "      <td>Puerto Tirol</td>\n",
              "      <td>0033</td>\n",
              "      <td>22</td>\n",
              "      <td>077</td>\n",
              "      <td>MULTIPOLYGON (((-59.23385 -27.30490, -59.12574...</td>\n",
              "    </tr>\n",
              "  </tbody>\n",
              "</table>\n",
              "<p>159 rows × 10 columns</p>\n",
              "</div>"
            ],
            "text/plain": [
              "                                            id  ...                                           geometry\n",
              "0    circuito_06.fid-421fea78_17d39d8939b_3dcb  ...  MULTIPOLYGON (((-60.54962 -26.60516, -60.56352...\n",
              "1    circuito_06.fid-421fea78_17d39d8939b_3dcc  ...  MULTIPOLYGON (((-60.91247 -26.67530, -60.86733...\n",
              "2    circuito_06.fid-421fea78_17d39d8939b_3dcd  ...  MULTIPOLYGON (((-59.02023 -27.41092, -59.02019...\n",
              "3    circuito_06.fid-421fea78_17d39d8939b_3dce  ...  MULTIPOLYGON (((-58.98378 -27.45119, -58.98474...\n",
              "4    circuito_06.fid-421fea78_17d39d8939b_3dcf  ...  MULTIPOLYGON (((-58.98421 -27.46391, -58.98513...\n",
              "..                                         ...  ...                                                ...\n",
              "154  circuito_06.fid-421fea78_17d39d8939b_3e65  ...  MULTIPOLYGON (((-58.63642 -27.01944, -58.63314...\n",
              "155  circuito_06.fid-421fea78_17d39d8939b_3e66  ...  MULTIPOLYGON (((-58.68880 -26.60214, -58.68841...\n",
              "156  circuito_06.fid-421fea78_17d39d8939b_3e67  ...  MULTIPOLYGON (((-58.87859 -27.56951, -58.87902...\n",
              "157  circuito_06.fid-421fea78_17d39d8939b_3e68  ...  MULTIPOLYGON (((-58.97771 -27.46999, -58.97681...\n",
              "158  circuito_06.fid-421fea78_17d39d8939b_3e69  ...  MULTIPOLYGON (((-59.23385 -27.30490, -59.12574...\n",
              "\n",
              "[159 rows x 10 columns]"
            ]
          },
          "metadata": {},
          "execution_count": 5
        }
      ]
    },
    {
      "cell_type": "code",
      "metadata": {
        "id": "0yaPNjXQzYU2"
      },
      "source": [
        "#print(data.geometry.type)\n",
        "wkt = data.to_wkt()"
      ],
      "execution_count": 6,
      "outputs": []
    },
    {
      "cell_type": "code",
      "metadata": {
        "id": "zUam-GiZ3tPC"
      },
      "source": [
        "circuito_n = []\n",
        "for i in range(len(wkt.circuito)):\n",
        "  if len(wkt.circuito[i]) == 4:\n",
        "    circuito_n.append(\"0\"+wkt.circuito[i])\n",
        "  else:\n",
        "    circuito_n.append(wkt.circuito[i])\n",
        "\n",
        "wkt['circuito_n'] = circuito_n "
      ],
      "execution_count": 7,
      "outputs": []
    },
    {
      "cell_type": "code",
      "metadata": {
        "id": "y4CiHJq6lEfH"
      },
      "source": [
        "chaco = pd.read_csv(url_mesas)\n",
        "id_circuitos = []\n",
        "for i in range(len(chaco)):\n",
        "  if chaco.idcircuito[i] in id_circuitos:\n",
        "    continue\n",
        "  else:\n",
        "    id_circuitos.append(chaco.idcircuito[i])\n",
        "    "
      ],
      "execution_count": 8,
      "outputs": []
    },
    {
      "cell_type": "code",
      "metadata": {
        "colab": {
          "base_uri": "https://localhost:8080/"
        },
        "id": "EcNx8RBNowjP",
        "outputId": "de388b98-0b40-436e-aa39-5694b9f32dda"
      },
      "source": [
        "circuitos_sobran = []\n",
        "for cir in circuito_n:\n",
        "  if cir in id_circuitos:\n",
        "    continue\n",
        "  else:\n",
        "    circuitos_sobran.append(cir)\n",
        "\n",
        "circuitos_sobran"
      ],
      "execution_count": 9,
      "outputs": [
        {
          "output_type": "execute_result",
          "data": {
            "text/plain": [
              "['00069',\n",
              " '00070',\n",
              " '00071',\n",
              " '00072',\n",
              " '00036',\n",
              " '0134D',\n",
              " '00135',\n",
              " '0134C',\n",
              " '00068']"
            ]
          },
          "metadata": {},
          "execution_count": 9
        }
      ]
    },
    {
      "cell_type": "code",
      "metadata": {
        "colab": {
          "base_uri": "https://localhost:8080/"
        },
        "id": "NZSAFj_RxpWo",
        "outputId": "322ce04c-de3f-48a8-f448-16dd60c97e4d"
      },
      "source": [
        "chequeo = []\n",
        "for cir in id_circuitos:\n",
        "  if cir in circuito_n:\n",
        "    continue\n",
        "  else:\n",
        "    chequeo.append(cir)\n",
        "\n",
        "chequeo"
      ],
      "execution_count": 10,
      "outputs": [
        {
          "output_type": "execute_result",
          "data": {
            "text/plain": [
              "['0117A', '0132A', '0028A', '0118A', '0135C']"
            ]
          },
          "metadata": {},
          "execution_count": 10
        }
      ]
    },
    {
      "cell_type": "code",
      "metadata": {
        "colab": {
          "base_uri": "https://localhost:8080/",
          "height": 320
        },
        "id": "MF-3SJyVHzOw",
        "outputId": "c7eb0c1b-3cd1-46de-bc7f-2d53911b1d7c"
      },
      "source": [
        "x = chaco[chaco.idcircuito == '0135C']\n",
        "d = wkt[wkt.circuito_n == '00036']\n",
        "e = chaco[chaco.seccion == 'Libertad']\n",
        "g = chaco[chaco.idcircuito == '0132A']\n",
        "f = wkt[wkt.departamen == 'O Higgins']\n",
        "\n",
        "print(e.idcircuito.value_counts())\n",
        "print(f.circuito_n.value_counts())\n",
        "\n",
        "f"
      ],
      "execution_count": 39,
      "outputs": [
        {
          "output_type": "stream",
          "name": "stdout",
          "text": [
            "00032    594\n",
            "00033    110\n",
            "00034     66\n",
            "00035     22\n",
            "Name: idcircuito, dtype: int64\n",
            "00083    1\n",
            "00084    1\n",
            "Name: circuito_n, dtype: int64\n"
          ]
        },
        {
          "output_type": "execute_result",
          "data": {
            "text/html": [
              "<div>\n",
              "<style scoped>\n",
              "    .dataframe tbody tr th:only-of-type {\n",
              "        vertical-align: middle;\n",
              "    }\n",
              "\n",
              "    .dataframe tbody tr th {\n",
              "        vertical-align: top;\n",
              "    }\n",
              "\n",
              "    .dataframe thead th {\n",
              "        text-align: right;\n",
              "    }\n",
              "</style>\n",
              "<table border=\"1\" class=\"dataframe\">\n",
              "  <thead>\n",
              "    <tr style=\"text-align: right;\">\n",
              "      <th></th>\n",
              "      <th>id</th>\n",
              "      <th>gid</th>\n",
              "      <th>distrito</th>\n",
              "      <th>provincia</th>\n",
              "      <th>departamen</th>\n",
              "      <th>cabecera</th>\n",
              "      <th>circuito</th>\n",
              "      <th>indec_p</th>\n",
              "      <th>indec_d</th>\n",
              "      <th>geometry</th>\n",
              "      <th>circuito_n</th>\n",
              "    </tr>\n",
              "  </thead>\n",
              "  <tbody>\n",
              "    <tr>\n",
              "      <th>36</th>\n",
              "      <td>circuito_06.fid-421fea78_17d39d8939b_3def</td>\n",
              "      <td>383</td>\n",
              "      <td>06</td>\n",
              "      <td>Chaco</td>\n",
              "      <td>O Higgins</td>\n",
              "      <td>San Bernardo</td>\n",
              "      <td>0083</td>\n",
              "      <td>22</td>\n",
              "      <td>112</td>\n",
              "      <td>MULTIPOLYGON (((-60.67579378 -27.45553945, -60...</td>\n",
              "      <td>00083</td>\n",
              "    </tr>\n",
              "    <tr>\n",
              "      <th>37</th>\n",
              "      <td>circuito_06.fid-421fea78_17d39d8939b_3df0</td>\n",
              "      <td>384</td>\n",
              "      <td>06</td>\n",
              "      <td>Chaco</td>\n",
              "      <td>O Higgins</td>\n",
              "      <td>San Bernardo</td>\n",
              "      <td>0084</td>\n",
              "      <td>22</td>\n",
              "      <td>112</td>\n",
              "      <td>MULTIPOLYGON (((-60.83702024 -27.18683099, -60...</td>\n",
              "      <td>00084</td>\n",
              "    </tr>\n",
              "  </tbody>\n",
              "</table>\n",
              "</div>"
            ],
            "text/plain": [
              "                                           id  ...  circuito_n\n",
              "36  circuito_06.fid-421fea78_17d39d8939b_3def  ...       00083\n",
              "37  circuito_06.fid-421fea78_17d39d8939b_3df0  ...       00084\n",
              "\n",
              "[2 rows x 11 columns]"
            ]
          },
          "metadata": {},
          "execution_count": 39
        }
      ]
    },
    {
      "cell_type": "code",
      "metadata": {
        "id": "s-YZCEfnzST3"
      },
      "source": [
        "chaco.loc[53045:53088, 'idcircuito'] = '00117'\n",
        "chaco.loc[61162:61170, 'idcircuito'] = '00118'\n",
        "chaco.loc[61406:61440, 'idcircuito'] = '00118'\n",
        "chaco.loc[56336:56366, 'idcircuito'] = '00132'\n",
        "chaco.loc[56584:56596, 'idcircuito'] = '00132'\n",
        "chaco.loc[59978:59994, 'idcircuito'] = '00028'\n",
        "chaco.loc[60142:60190, 'idcircuito'] = '00028'\n",
        "wkt.loc[105, 'circuito_n'] = '0135C'\n",
        "wkt.loc[58:60, 'departamen'] = '1 de Mayo'\n",
        "wkt.loc[36:37, 'departamen'] = \"O'Higgins\""
      ],
      "execution_count": 40,
      "outputs": []
    },
    {
      "cell_type": "code",
      "metadata": {
        "colab": {
          "base_uri": "https://localhost:8080/"
        },
        "id": "JIs1K5o02VPO",
        "outputId": "07347d27-3fa6-4248-99d1-4b57c49eb129"
      },
      "source": [
        "id_circuitos = []\n",
        "for i in range(len(chaco)):\n",
        "  if chaco.idcircuito[i] in id_circuitos:\n",
        "    continue\n",
        "  else:\n",
        "    id_circuitos.append(chaco.idcircuito[i])\n",
        "\n",
        "circuito_n = wkt.circuito_n\n",
        "\n",
        "circuitos_sobran = []\n",
        "for cir in circuito_n:\n",
        "  if cir in id_circuitos:\n",
        "    continue\n",
        "  else:\n",
        "    circuitos_sobran.append(cir)\n",
        "\n",
        "circuitos_sobran"
      ],
      "execution_count": 41,
      "outputs": [
        {
          "output_type": "execute_result",
          "data": {
            "text/plain": [
              "['00069', '00070', '00071', '00072', '00036', '0134D', '0134C', '00068']"
            ]
          },
          "metadata": {},
          "execution_count": 41
        }
      ]
    },
    {
      "cell_type": "markdown",
      "metadata": {
        "id": "FhXY5-QWWQJT"
      },
      "source": [
        "Los circuitos 0134C y 0134D no le puedo encontrar solución. No puedo encontrar una solución que sea buena. En las mesas hay dos circuitos 0134A y 0134B. El primero tiene una sola escuela. El segundo tiene dos. Con lo cual únicamente el último podría dividirse por escuela. Sin embargo aún así sobraría un dato. Lo cierto es que existe la posibilidad que no se cuente con los datos de esos circuitos por estar incompleta la información. La única solución que deja posible es dejar esos circuitos en blanco. \n",
        "\n",
        "Al examinar del geojson los circuitos 00069, 00070, 00071, 00072 y 00068. Podemos ver que todos corresponden al departamento de Tapenaga el cual no está entre las secciones de las mesas. \n",
        "\n",
        "Del departamento de Libertad no está en mesas el circuito 00036 que si está en el geojson."
      ]
    },
    {
      "cell_type": "code",
      "metadata": {
        "colab": {
          "base_uri": "https://localhost:8080/"
        },
        "id": "LL93Mr899BHa",
        "outputId": "8f407059-5c64-418c-8f99-34d3cc119e48"
      },
      "source": [
        "print(wkt.departamen.unique())\n",
        "print(chaco.seccion.unique())\n",
        "print(wkt.departamen.nunique())\n",
        "print(chaco.seccion.nunique())"
      ],
      "execution_count": 42,
      "outputs": [
        {
          "output_type": "stream",
          "name": "stdout",
          "text": [
            "['Independencia' 'San Fernando' 'Tapenaga' 'General Donovan'\n",
            " 'Libertador General San Martin' 'San Lorenzo' 'Mayor Luis J. Fontana'\n",
            " 'Sargento Cabral' \"O'Higgins\" 'Presidencia De La Plaza' 'Bermejo'\n",
            " '1 de Mayo' 'Libertad' 'Comandante Fernan' 'Quitilipi' '25 de Mayo'\n",
            " 'Maipu' 'General Belgrano' '9 de Julio' 'Chacabuco' '12 de Octubre'\n",
            " '2 de Abril' 'Almirante Brown' 'General Guemes'\n",
            " 'Fray Justo Santa Maria de Oro']\n",
            "['General Belgrano' \"O'Higgins\" 'Libertador General San Martín'\n",
            " 'Mayor Luis J. Fontana' 'Quitilipi' '1º de Mayo' 'Chacabuco'\n",
            " 'San Fernando' 'Sargento Cabral' 'Bermejo' 'San Lorenzo'\n",
            " 'Presidencia de la Plaza' 'Comandante Fernández' '25 de Mayo' 'Maipú'\n",
            " '9 de Julio' 'Almirante Brown' 'General Güemes' '12 de Octubre'\n",
            " '2 de Abril' 'Fray Justo Santa María de Oro' 'Libertad' 'General Donovan'\n",
            " 'Independencia']\n",
            "25\n",
            "24\n"
          ]
        }
      ]
    },
    {
      "cell_type": "code",
      "metadata": {
        "id": "740Ov7fihWVz"
      },
      "source": [
        "wkt.to_csv('ChacoN.csv')"
      ],
      "execution_count": 43,
      "outputs": []
    },
    {
      "cell_type": "code",
      "metadata": {
        "id": "9Kxdg38ph87j"
      },
      "source": [
        "chaco.to_csv('mesaschaco.csv')"
      ],
      "execution_count": 15,
      "outputs": []
    }
  ]
}